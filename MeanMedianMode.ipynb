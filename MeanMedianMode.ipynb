{
 "cells": [
  {
   "cell_type": "markdown",
   "metadata": {},
   "source": [
    "# Mean, Median, Mode, and introducing NumPy"
   ]
  },
  {
   "cell_type": "markdown",
   "metadata": {},
   "source": [
    "## Mean vs. Median"
   ]
  },
  {
   "cell_type": "markdown",
   "metadata": {},
   "source": [
    "Let's create some fake income data, centered around 27,000 with a normal distribution and standard deviation of 15,000, with 10,000 data points. (We'll discuss those terms more later, if you're not familiar with them.)\n",
    "\n",
    "Then, compute the mean (average) - it should be close to 27,000:"
   ]
  },
  {
   "cell_type": "code",
   "execution_count": 2,
   "metadata": {},
   "outputs": [
    {
     "data": {
      "text/plain": [
       "27055.573098979068"
      ]
     },
     "execution_count": 2,
     "metadata": {},
     "output_type": "execute_result"
    }
   ],
   "source": [
    "import numpy as np\n",
    "\n",
    "incomes = np.random.normal(27000, 15000, 10000)\n",
    "np.mean(incomes)"
   ]
  },
  {
   "cell_type": "markdown",
   "metadata": {},
   "source": [
    "We can segment the income data into 50 buckets, and plot it as a histogram:"
   ]
  },
  {
   "cell_type": "code",
   "execution_count": 5,
   "metadata": {},
   "outputs": [
    {
     "data": {
      "image/png": "[encoded data removed]",
      "text/plain": [
       "<Figure size 432x288 with 1 Axes>"
      ]
     },
     "metadata": {
      "needs_background": "light"
     },
     "output_type": "display_data"
    }
   ],
   "source": [
    "%matplotlib inline\n",
    "import matplotlib.pyplot as plt\n",
    "plt.hist(incomes, 25)\n",
    "plt.show()"
   ]
  },
  {
   "cell_type": "markdown",
   "metadata": {},
   "source": [
    "Now compute the median - since we have a nice, even distribution it too should be close to 27,000:"
   ]
  },
  {
   "cell_type": "code",
   "execution_count": 3,
   "metadata": {},
   "outputs": [
    {
     "data": {
      "text/plain": [
       "27092.39320043316"
      ]
     },
     "execution_count": 3,
     "metadata": {},
     "output_type": "execute_result"
    }
   ],
   "source": [
    "np.median(incomes)"
   ]
  },
  {
   "cell_type": "markdown",
   "metadata": {},
   "source": [
    "Now we'll add Jeff Bezos into the mix. Darn income inequality!"
   ]
  },
  {
   "cell_type": "code",
   "execution_count": 4,
   "metadata": {},
   "outputs": [],
   "source": [
    "incomes = np.append(incomes, [1000000000])"
   ]
  },
  {
   "cell_type": "markdown",
   "metadata": {},
   "source": [
    "The median won't change much, but the mean does:"
   ]
  },
  {
   "cell_type": "code",
   "execution_count": 5,
   "metadata": {},
   "outputs": [
    {
     "data": {
      "text/plain": [
       "27092.571036571815"
      ]
     },
     "execution_count": 5,
     "metadata": {},
     "output_type": "execute_result"
    }
   ],
   "source": [
    "np.median(incomes)"
   ]
  },
  {
   "cell_type": "code",
   "execution_count": 6,
   "metadata": {},
   "outputs": [
    {
     "data": {
      "text/plain": [
       "126921.0284963053"
      ]
     },
     "execution_count": 6,
     "metadata": {},
     "output_type": "execute_result"
    }
   ],
   "source": [
    "np.mean(incomes)"
   ]
  },
  {
   "cell_type": "markdown",
   "metadata": {},
   "source": [
    "## Mode"
   ]
  },
  {
   "cell_type": "markdown",
   "metadata": {},
   "source": [
    "Next, let's generate some fake age data for 500 people:"
   ]
  },
  {
   "cell_type": "code",
   "execution_count": 6,
   "metadata": {},
   "outputs": [
    {
     "data": {
      "text/plain": [
       "array([86, 86, 69, 67, 33, 55, 86, 59, 48, 56, 22, 84, 30, 18, 22, 41, 39,\n",
       "       41, 79, 30, 87, 54, 78, 37, 87, 86, 76, 39, 19, 37, 34, 85, 75, 47,\n",
       "       83, 21, 56, 65, 80, 40, 40, 21, 68, 44, 29, 28, 83, 76, 64, 76, 74,\n",
       "       37, 87, 35, 53, 51, 21, 50, 55, 72, 57, 69, 73, 37, 70, 65, 32, 57,\n",
       "       28, 41, 67, 84, 70, 41, 68, 83, 42, 78, 54, 23, 61, 71, 56, 86, 86,\n",
       "       88, 68, 39, 70, 40, 65, 32, 34, 68, 27, 61, 54, 52, 73, 70, 36, 19,\n",
       "       74, 18, 51, 71, 86, 39, 27, 82, 77, 61, 18, 48, 64, 85, 32, 24, 75,\n",
       "       50, 84, 70, 32, 34, 88, 80, 73, 41, 75, 89, 63, 29, 67, 23, 51, 79,\n",
       "       43, 29, 75, 30, 32, 51, 29, 87, 62, 60, 80, 24, 89, 45, 66, 20, 88,\n",
       "       79, 32, 85, 68, 84, 29, 73, 63, 22, 58, 23, 83, 49, 40, 87, 48, 72,\n",
       "       35, 77, 20, 38, 86, 79, 85, 35, 52, 21, 52, 44, 60, 87, 71, 28, 25,\n",
       "       44, 57, 78, 20, 25, 62, 53, 80, 47, 60, 23, 32, 54, 62, 89, 18, 58,\n",
       "       20, 42, 58, 33, 19, 29, 21, 81, 48, 30, 61, 18, 80, 53, 49, 50, 23,\n",
       "       87, 77, 76, 77, 18, 25, 58, 63, 89, 89, 46, 42, 20, 45, 88, 33, 86,\n",
       "       44, 62, 56, 30, 50, 43, 49, 53, 26, 77, 77, 58, 20, 81, 64, 61, 66,\n",
       "       66, 46, 51, 21, 29, 87, 19, 49, 40, 76, 22, 41, 57, 63, 54, 42, 50,\n",
       "       89, 19, 66, 79, 85, 61, 19, 48, 81, 53, 25, 77, 59, 18, 53, 66, 34,\n",
       "       79, 20, 77, 85, 46, 44, 22, 27, 51, 39, 56, 83, 52, 42, 30, 78, 37,\n",
       "       69, 80, 88, 54, 77, 59, 89, 58, 31, 69, 66, 73, 36, 82, 63, 25, 19,\n",
       "       68, 44, 72, 33, 41, 44, 27, 39, 37, 48, 59, 39, 74, 47, 41, 62, 73,\n",
       "       56, 80, 74, 54, 88, 47, 82, 83, 49, 23, 25, 23, 77, 20, 40, 56, 25,\n",
       "       50, 52, 70, 50, 41, 52, 35, 40, 71, 49, 51, 39, 50, 62, 83, 75, 83,\n",
       "       61, 83, 64, 65, 53, 45, 18, 30, 37, 84, 72, 27, 26, 46, 30, 43, 62,\n",
       "       25, 34, 83, 58, 42, 21, 71, 66, 71, 48, 49, 22, 54, 39, 76, 79, 29,\n",
       "       63, 18, 29, 67, 24, 29, 48, 42, 85, 27, 72, 57, 68, 54, 72, 78, 81,\n",
       "       20, 67, 47, 63, 83, 39, 27, 71, 70, 89, 76, 61, 63, 76, 58, 89, 81,\n",
       "       85, 40, 61, 78, 64, 60, 31, 28, 59, 46, 73, 38, 74, 63, 50, 19, 51,\n",
       "       55, 76, 27, 40, 28, 71, 63, 58, 32, 81, 70, 77, 66, 74, 53, 40, 37,\n",
       "       47, 26, 62, 73, 72, 48, 31, 80, 64, 85, 79, 27, 27, 49, 79, 65, 31,\n",
       "       67, 47, 48, 49, 39, 60, 37])"
      ]
     },
     "execution_count": 6,
     "metadata": {},
     "output_type": "execute_result"
    }
   ],
   "source": [
    "ages = np.random.randint(18, high=90, size=500)\n",
    "ages"
   ]
  },
  {
   "cell_type": "code",
   "execution_count": 7,
   "metadata": {},
   "outputs": [
    {
     "data": {
      "text/plain": [
       "ModeResult(mode=array([39]), count=array([11]))"
      ]
     },
     "execution_count": 7,
     "metadata": {},
     "output_type": "execute_result"
    }
   ],
   "source": [
    "from scipy import stats\n",
    "stats.mode(ages)"
   ]
  },
  {
   "cell_type": "code",
   "execution_count": null,
   "metadata": {},
   "outputs": [],
   "source": []
  }
 ],
 "metadata": {
  "kernelspec": {
   "display_name": "Python 3",
   "language": "python",
   "name": "python3"
  },
  "language_info": {
   "codemirror_mode": {
    "name": "ipython",
    "version": 3
   },
   "file_extension": ".py",
   "mimetype": "text/x-python",
   "name": "python",
   "nbconvert_exporter": "python",
   "pygments_lexer": "ipython3",
   "version": "3.8.5"
  }
 },
 "nbformat": 4,
 "nbformat_minor": 1
}
